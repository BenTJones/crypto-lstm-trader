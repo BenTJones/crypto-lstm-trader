{
 "cells": [
  {
   "cell_type": "markdown",
   "id": "20e69a13",
   "metadata": {},
   "source": [
    "Testing Notebook"
   ]
  },
  {
   "cell_type": "markdown",
   "id": "3f1b68bd",
   "metadata": {},
   "source": [
    "This notebook will be used to import and run the programmed scripts to keep outputs contained into just this file."
   ]
  },
  {
   "cell_type": "markdown",
   "id": "72e2bed6",
   "metadata": {},
   "source": [
    "0. Initial import of modules"
   ]
  },
  {
   "cell_type": "code",
   "execution_count": 1,
   "id": "203ea872",
   "metadata": {},
   "outputs": [
    {
     "name": "stdout",
     "output_type": "stream",
     "text": [
      "c:\\Users\\benjo\\Documents\\Projects\\crypto-lstm-trader\n"
     ]
    },
    {
     "data": {
      "text/plain": [
       "<torch._C.Generator at 0x1abc353f2d0>"
      ]
     },
     "execution_count": 1,
     "metadata": {},
     "output_type": "execute_result"
    }
   ],
   "source": [
    "import os\n",
    "import torch\n",
    "print(os.getcwd())\n",
    "torch.manual_seed(42)"
   ]
  },
  {
   "cell_type": "code",
   "execution_count": 2,
   "id": "250c5475",
   "metadata": {},
   "outputs": [],
   "source": [
    "from preprocessing.fetch_binance import fetch_binance\n",
    "from preprocessing.prep_data import target_def, z_score_norm, window_creation, train_val_test_split\n",
    "from datasets.sequence_dataset import SequenceDataset"
   ]
  },
  {
   "cell_type": "markdown",
   "id": "3275036c",
   "metadata": {},
   "source": [
    "1. Obtaining the data"
   ]
  },
  {
   "cell_type": "code",
   "execution_count": 3,
   "id": "e85d8aeb",
   "metadata": {},
   "outputs": [
    {
     "data": {
      "text/html": [
       "<div>\n",
       "<style scoped>\n",
       "    .dataframe tbody tr th:only-of-type {\n",
       "        vertical-align: middle;\n",
       "    }\n",
       "\n",
       "    .dataframe tbody tr th {\n",
       "        vertical-align: top;\n",
       "    }\n",
       "\n",
       "    .dataframe thead th {\n",
       "        text-align: right;\n",
       "    }\n",
       "</style>\n",
       "<table border=\"1\" class=\"dataframe\">\n",
       "  <thead>\n",
       "    <tr style=\"text-align: right;\">\n",
       "      <th></th>\n",
       "      <th>open</th>\n",
       "      <th>high</th>\n",
       "      <th>low</th>\n",
       "      <th>close</th>\n",
       "      <th>volume</th>\n",
       "    </tr>\n",
       "    <tr>\n",
       "      <th>timestamp</th>\n",
       "      <th></th>\n",
       "      <th></th>\n",
       "      <th></th>\n",
       "      <th></th>\n",
       "      <th></th>\n",
       "    </tr>\n",
       "  </thead>\n",
       "  <tbody>\n",
       "    <tr>\n",
       "      <th>2019-01-01 00:00:00</th>\n",
       "      <td>3701.23</td>\n",
       "      <td>3713.00</td>\n",
       "      <td>3689.88</td>\n",
       "      <td>3700.31</td>\n",
       "      <td>686.367420</td>\n",
       "    </tr>\n",
       "    <tr>\n",
       "      <th>2019-01-01 01:00:00</th>\n",
       "      <td>3700.20</td>\n",
       "      <td>3702.73</td>\n",
       "      <td>3684.22</td>\n",
       "      <td>3689.69</td>\n",
       "      <td>613.539115</td>\n",
       "    </tr>\n",
       "    <tr>\n",
       "      <th>2019-01-01 02:00:00</th>\n",
       "      <td>3689.67</td>\n",
       "      <td>3695.95</td>\n",
       "      <td>3675.04</td>\n",
       "      <td>3690.00</td>\n",
       "      <td>895.302181</td>\n",
       "    </tr>\n",
       "    <tr>\n",
       "      <th>2019-01-01 03:00:00</th>\n",
       "      <td>3690.00</td>\n",
       "      <td>3699.77</td>\n",
       "      <td>3685.78</td>\n",
       "      <td>3693.13</td>\n",
       "      <td>796.714818</td>\n",
       "    </tr>\n",
       "    <tr>\n",
       "      <th>2019-01-01 04:00:00</th>\n",
       "      <td>3692.32</td>\n",
       "      <td>3720.00</td>\n",
       "      <td>3685.94</td>\n",
       "      <td>3692.71</td>\n",
       "      <td>1317.452909</td>\n",
       "    </tr>\n",
       "  </tbody>\n",
       "</table>\n",
       "</div>"
      ],
      "text/plain": [
       "                        open     high      low    close       volume\n",
       "timestamp                                                           \n",
       "2019-01-01 00:00:00  3701.23  3713.00  3689.88  3700.31   686.367420\n",
       "2019-01-01 01:00:00  3700.20  3702.73  3684.22  3689.69   613.539115\n",
       "2019-01-01 02:00:00  3689.67  3695.95  3675.04  3690.00   895.302181\n",
       "2019-01-01 03:00:00  3690.00  3699.77  3685.78  3693.13   796.714818\n",
       "2019-01-01 04:00:00  3692.32  3720.00  3685.94  3692.71  1317.452909"
      ]
     },
     "execution_count": 3,
     "metadata": {},
     "output_type": "execute_result"
    }
   ],
   "source": [
    "df = fetch_binance(\n",
    "    exchange_ticker='BTC/USDT',\n",
    "    start_date='2019-01-01T00:00:00Z',\n",
    "    timeframe='1h',\n",
    "    cache_path=('./data/usd_btc_binance.csv'),\n",
    "    max_age_hrs=3\n",
    ")\n",
    "df.head()"
   ]
  },
  {
   "cell_type": "markdown",
   "id": "812e3598",
   "metadata": {},
   "source": [
    "2. Normalisation and Window Creation"
   ]
  },
  {
   "cell_type": "code",
   "execution_count": 4,
   "id": "6f0f85f7",
   "metadata": {},
   "outputs": [
    {
     "data": {
      "text/plain": [
       "(torch.Size([57769, 48, 5]), torch.Size([57769]))"
      ]
     },
     "execution_count": 4,
     "metadata": {},
     "output_type": "execute_result"
    }
   ],
   "source": [
    "df = target_def(df)\n",
    "norm_df = z_score_norm(df, split_time='2023-01-01 00:00:00')\n",
    "\n",
    "x, y = window_creation(norm_df, window_size=48)\n",
    "x.shape, y.shape\n"
   ]
  },
  {
   "cell_type": "markdown",
   "id": "c90dd6fa",
   "metadata": {},
   "source": [
    "3. Splitting data into test, validation and training sets"
   ]
  },
  {
   "cell_type": "code",
   "execution_count": 5,
   "id": "23354e70",
   "metadata": {},
   "outputs": [
    {
     "name": "stdout",
     "output_type": "stream",
     "text": [
      "[40438, 8665, 8666]\n",
      "[40438, 8665, 8666]\n"
     ]
    }
   ],
   "source": [
    "x_train, y_train, x_val, y_val,x_test, y_test = train_val_test_split(x, y)\n",
    "x_lengths = map(len,[x_train,x_val,x_test])\n",
    "y_lengths = map(len,[y_train,y_val,y_test])\n",
    "print(list(x_lengths))\n",
    "print(list(y_lengths))"
   ]
  },
  {
   "cell_type": "code",
   "execution_count": 6,
   "id": "e4fa4c69",
   "metadata": {},
   "outputs": [
    {
     "ename": "TypeError",
     "evalue": "'torch.Size' object is not callable",
     "output_type": "error",
     "traceback": [
      "\u001b[31m---------------------------------------------------------------------------\u001b[39m",
      "\u001b[31mTypeError\u001b[39m                                 Traceback (most recent call last)",
      "\u001b[36mCell\u001b[39m\u001b[36m \u001b[39m\u001b[32mIn[6]\u001b[39m\u001b[32m, line 1\u001b[39m\n\u001b[32m----> \u001b[39m\u001b[32m1\u001b[39m \u001b[38;5;28mprint\u001b[39m(\u001b[43mx\u001b[49m\u001b[43m.\u001b[49m\u001b[43mshape\u001b[49m\u001b[43m(\u001b[49m\u001b[43m)\u001b[49m)\n",
      "\u001b[31mTypeError\u001b[39m: 'torch.Size' object is not callable"
     ]
    }
   ],
   "source": [
    "print(x.shape())"
   ]
  },
  {
   "cell_type": "markdown",
   "id": "ec9ce345",
   "metadata": {},
   "source": [
    "4. Wrap the data in custom datasets so torch dataloaders can be used"
   ]
  },
  {
   "cell_type": "code",
   "execution_count": null,
   "id": "7784cda3",
   "metadata": {},
   "outputs": [],
   "source": [
    "from torch.utils.data import DataLoader\n",
    "from datasets.sequence_dataset import SequenceDataset\n",
    "\n",
    "batch_size= 64\n",
    "train_loader= DataLoader(SequenceDataset(x_train,y_train),batch_size=batch_size, shuffle=True)\n",
    "val_loader = DataLoader(SequenceDataset(x_val,y_val), batch_size=batch_size, shuffle=False)\n",
    "test_loader = DataLoader(SequenceDataset(x_test,y_test),batch_size=batch_size, shuffle=False)\n"
   ]
  },
  {
   "cell_type": "markdown",
   "id": "cf49b48d",
   "metadata": {},
   "source": [
    "5. Model set up and Training"
   ]
  },
  {
   "cell_type": "code",
   "execution_count": null,
   "id": "1807ddce",
   "metadata": {},
   "outputs": [],
   "source": [
    "from models.lstm import LSTMClassifier\n",
    "\n",
    "model = LSTMClassifier(input_size=5,hidden_size=64)"
   ]
  }
 ],
 "metadata": {
  "kernelspec": {
   "display_name": "venv (3.12.7)",
   "language": "python",
   "name": "python3"
  },
  "language_info": {
   "codemirror_mode": {
    "name": "ipython",
    "version": 3
   },
   "file_extension": ".py",
   "mimetype": "text/x-python",
   "name": "python",
   "nbconvert_exporter": "python",
   "pygments_lexer": "ipython3",
   "version": "3.12.7"
  }
 },
 "nbformat": 4,
 "nbformat_minor": 5
}
